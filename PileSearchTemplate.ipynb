{
 "cells": [
  {
   "attachments": {},
   "cell_type": "markdown",
   "id": "6cbe6b7e",
   "metadata": {},
   "source": [
    "Search Pile Dataset for matches with a given prompt. Search is just a brute force search and will take awhile."
   ]
  },
  {
   "cell_type": "code",
   "execution_count": null,
   "id": "f700a932",
   "metadata": {},
   "outputs": [],
   "source": [
    "# Install lm-dataformat if needed\n",
    "# !pip install lm-dataformat\n",
    "import lm_dataformat\n",
    "from tqdm import tqdm"
   ]
  },
  {
   "cell_type": "code",
   "execution_count": null,
   "id": "526927dc",
   "metadata": {},
   "outputs": [],
   "source": [
    "pileReaders = []\n",
    "pilePath = \"/path/to/pile/folder\"\n",
    "for i in range(30):\n",
    "    pileReader = lm_dataformat.Reader(f\"{pilePath}/{i:02}.jsonl.zst\")\n",
    "    pileReaders.append(pileReader)\n",
    "\n"
   ]
  },
  {
   "cell_type": "code",
   "execution_count": null,
   "id": "b043db4e",
   "metadata": {},
   "outputs": [],
   "source": [
    "def search_prompt(prompts):\n",
    "    \"\"\"\n",
    "    Given a list of prompts, return the first document w/ ANY of the given prompts\n",
    "    \"\"\"\n",
    "    for i, pileReader in enumerate(pileReaders):\n",
    "        docsiter = pileReader.stream_data()\n",
    "        print(f'Chunk {i}')\n",
    "        with tqdm(position=0, leave=True) as pbar:\n",
    "            for doc in docsiter:\n",
    "                for prompt in prompts:\n",
    "                    if prompt in doc:\n",
    "                        return doc\n",
    "                pbar.update()\n",
    "\n",
    "def search_prompt_multiple(prompts):\n",
    "    \"\"\"\n",
    "    Given a list of prompts, return a list of documents w/ ANY of the given prompts\n",
    "    \"\"\"\n",
    "    docs = []\n",
    "    for i, pileReader in enumerate(pileReaders):\n",
    "        docsiter = pileReader.stream_data()\n",
    "        print(f'Chunk {i}')\n",
    "        with tqdm(position=0, leave=True) as pbar:\n",
    "            for doc in docsiter:\n",
    "                for prompt in prompts:\n",
    "                    if prompt in doc:\n",
    "                        docs.append(doc)\n",
    "                pbar.update()\n",
    "    return docs"
   ]
  },
  {
   "cell_type": "code",
   "execution_count": null,
   "id": "27bb91ee",
   "metadata": {},
   "outputs": [],
   "source": [
    "docs = search_prompt_multiple([\n",
    "    'prompt1', 'prompt2', 'prompt3'\n",
    "])\n",
    "for i, doc in enumerate(docs):\n",
    "    print(f'----- Document {i} -----')\n",
    "    print(doc)"
   ]
  },
  {
   "cell_type": "code",
   "execution_count": null,
   "id": "13312b96",
   "metadata": {},
   "outputs": [],
   "source": []
  }
 ],
 "metadata": {
  "kernelspec": {
   "display_name": "rome",
   "language": "python",
   "name": "python3"
  },
  "language_info": {
   "codemirror_mode": {
    "name": "ipython",
    "version": 3
   },
   "file_extension": ".py",
   "mimetype": "text/x-python",
   "name": "python",
   "nbconvert_exporter": "python",
   "pygments_lexer": "ipython3",
   "version": "3.9.7 (default, Sep 16 2021, 13:09:58) \n[GCC 7.5.0]"
  },
  "vscode": {
   "interpreter": {
    "hash": "c9d0ac51c020c063648696f6c36ad0695444d17ec59ee993a022dee07f028da3"
   }
  }
 },
 "nbformat": 4,
 "nbformat_minor": 5
}
